{
 "cells": [
  {
   "cell_type": "markdown",
   "metadata": {},
   "source": [
    "# 통계분석"
   ]
  },
  {
   "cell_type": "code",
   "execution_count": 6,
   "metadata": {},
   "outputs": [],
   "source": [
    "from ISLP import load_data\n",
    "from scipy import stats\n",
    "import statsmodels.api as sm"
   ]
  },
  {
   "cell_type": "markdown",
   "metadata": {},
   "source": [
    "1.&nbsp; Urban변수에 따른 Sales의 차이가 있는지를 통계적으로 검증하기 위한 통계분석을 수행하고, 결과를 해석하시오. (데이터는 정규성을 만족한다고 가정하고 유의수준 0.05 하에서 검정)"
   ]
  },
  {
   "cell_type": "code",
   "execution_count": 2,
   "metadata": {},
   "outputs": [
    {
     "data": {
      "text/html": [
       "<div>\n",
       "<style scoped>\n",
       "    .dataframe tbody tr th:only-of-type {\n",
       "        vertical-align: middle;\n",
       "    }\n",
       "\n",
       "    .dataframe tbody tr th {\n",
       "        vertical-align: top;\n",
       "    }\n",
       "\n",
       "    .dataframe thead th {\n",
       "        text-align: right;\n",
       "    }\n",
       "</style>\n",
       "<table border=\"1\" class=\"dataframe\">\n",
       "  <thead>\n",
       "    <tr style=\"text-align: right;\">\n",
       "      <th></th>\n",
       "      <th>Sales</th>\n",
       "      <th>CompPrice</th>\n",
       "      <th>Income</th>\n",
       "      <th>Advertising</th>\n",
       "      <th>Population</th>\n",
       "      <th>Price</th>\n",
       "      <th>ShelveLoc</th>\n",
       "      <th>Age</th>\n",
       "      <th>Education</th>\n",
       "      <th>Urban</th>\n",
       "      <th>US</th>\n",
       "    </tr>\n",
       "  </thead>\n",
       "  <tbody>\n",
       "    <tr>\n",
       "      <th>0</th>\n",
       "      <td>9.50</td>\n",
       "      <td>138</td>\n",
       "      <td>73</td>\n",
       "      <td>11</td>\n",
       "      <td>276</td>\n",
       "      <td>120</td>\n",
       "      <td>Bad</td>\n",
       "      <td>42</td>\n",
       "      <td>17</td>\n",
       "      <td>Yes</td>\n",
       "      <td>Yes</td>\n",
       "    </tr>\n",
       "    <tr>\n",
       "      <th>1</th>\n",
       "      <td>11.22</td>\n",
       "      <td>111</td>\n",
       "      <td>48</td>\n",
       "      <td>16</td>\n",
       "      <td>260</td>\n",
       "      <td>83</td>\n",
       "      <td>Good</td>\n",
       "      <td>65</td>\n",
       "      <td>10</td>\n",
       "      <td>Yes</td>\n",
       "      <td>Yes</td>\n",
       "    </tr>\n",
       "    <tr>\n",
       "      <th>2</th>\n",
       "      <td>10.06</td>\n",
       "      <td>113</td>\n",
       "      <td>35</td>\n",
       "      <td>10</td>\n",
       "      <td>269</td>\n",
       "      <td>80</td>\n",
       "      <td>Medium</td>\n",
       "      <td>59</td>\n",
       "      <td>12</td>\n",
       "      <td>Yes</td>\n",
       "      <td>Yes</td>\n",
       "    </tr>\n",
       "    <tr>\n",
       "      <th>3</th>\n",
       "      <td>7.40</td>\n",
       "      <td>117</td>\n",
       "      <td>100</td>\n",
       "      <td>4</td>\n",
       "      <td>466</td>\n",
       "      <td>97</td>\n",
       "      <td>Medium</td>\n",
       "      <td>55</td>\n",
       "      <td>14</td>\n",
       "      <td>Yes</td>\n",
       "      <td>Yes</td>\n",
       "    </tr>\n",
       "    <tr>\n",
       "      <th>4</th>\n",
       "      <td>4.15</td>\n",
       "      <td>141</td>\n",
       "      <td>64</td>\n",
       "      <td>3</td>\n",
       "      <td>340</td>\n",
       "      <td>128</td>\n",
       "      <td>Bad</td>\n",
       "      <td>38</td>\n",
       "      <td>13</td>\n",
       "      <td>Yes</td>\n",
       "      <td>No</td>\n",
       "    </tr>\n",
       "  </tbody>\n",
       "</table>\n",
       "</div>"
      ],
      "text/plain": [
       "   Sales  CompPrice  Income  Advertising  Population  Price ShelveLoc  Age  \\\n",
       "0   9.50        138      73           11         276    120       Bad   42   \n",
       "1  11.22        111      48           16         260     83      Good   65   \n",
       "2  10.06        113      35           10         269     80    Medium   59   \n",
       "3   7.40        117     100            4         466     97    Medium   55   \n",
       "4   4.15        141      64            3         340    128       Bad   38   \n",
       "\n",
       "   Education Urban   US  \n",
       "0         17   Yes  Yes  \n",
       "1         10   Yes  Yes  \n",
       "2         12   Yes  Yes  \n",
       "3         14   Yes  Yes  \n",
       "4         13   Yes   No  "
      ]
     },
     "execution_count": 2,
     "metadata": {},
     "output_type": "execute_result"
    }
   ],
   "source": [
    "carseats = load_data('Carseats')\n",
    "carseats.head()"
   ]
  },
  {
   "cell_type": "code",
   "execution_count": 3,
   "metadata": {},
   "outputs": [
    {
     "name": "stdout",
     "output_type": "stream",
     "text": [
      "t-statistic: -0.3077, p-value: 0.7585\n"
     ]
    }
   ],
   "source": [
    "sales_urban_yes = carseats[carseats['Urban'] == 'Yes']['Sales']\n",
    "sales_urban_no = carseats[carseats['Urban'] == 'No']['Sales']\n",
    "\n",
    "t_stat, p_value = stats.ttest_ind(sales_urban_yes, sales_urban_no, equal_var = True)\n",
    "\n",
    "print(f't-statistic: {t_stat:.4f}, p-value: {p_value:.4f}')"
   ]
  },
  {
   "cell_type": "markdown",
   "metadata": {},
   "source": [
    "2.&nbsp; Sales변수와 CompPrice, Income, Advertising, Population, Price, Age, Education 변수들 간의 피어슨 상관계수를 이용한 상관관계 분석을 수행하고 이를 해석하시오."
   ]
  },
  {
   "cell_type": "code",
   "execution_count": 4,
   "metadata": {},
   "outputs": [
    {
     "data": {
      "text/plain": [
       "Index(['Sales', 'CompPrice', 'Income', 'Advertising', 'Population', 'Price',\n",
       "       'ShelveLoc', 'Age', 'Education', 'Urban', 'US'],\n",
       "      dtype='object')"
      ]
     },
     "execution_count": 4,
     "metadata": {},
     "output_type": "execute_result"
    }
   ],
   "source": [
    "carseats.columns"
   ]
  },
  {
   "cell_type": "code",
   "execution_count": 5,
   "metadata": {},
   "outputs": [
    {
     "data": {
      "text/html": [
       "<div>\n",
       "<style scoped>\n",
       "    .dataframe tbody tr th:only-of-type {\n",
       "        vertical-align: middle;\n",
       "    }\n",
       "\n",
       "    .dataframe tbody tr th {\n",
       "        vertical-align: top;\n",
       "    }\n",
       "\n",
       "    .dataframe thead th {\n",
       "        text-align: right;\n",
       "    }\n",
       "</style>\n",
       "<table border=\"1\" class=\"dataframe\">\n",
       "  <thead>\n",
       "    <tr style=\"text-align: right;\">\n",
       "      <th></th>\n",
       "      <th>Sales</th>\n",
       "      <th>CompPrice</th>\n",
       "      <th>Income</th>\n",
       "      <th>Advertising</th>\n",
       "      <th>Population</th>\n",
       "      <th>Price</th>\n",
       "      <th>Age</th>\n",
       "      <th>Education</th>\n",
       "    </tr>\n",
       "  </thead>\n",
       "  <tbody>\n",
       "    <tr>\n",
       "      <th>Sales</th>\n",
       "      <td>1.000000</td>\n",
       "      <td>0.064079</td>\n",
       "      <td>0.151951</td>\n",
       "      <td>0.269507</td>\n",
       "      <td>0.050471</td>\n",
       "      <td>-0.444951</td>\n",
       "      <td>-0.231815</td>\n",
       "      <td>-0.051955</td>\n",
       "    </tr>\n",
       "    <tr>\n",
       "      <th>CompPrice</th>\n",
       "      <td>0.064079</td>\n",
       "      <td>1.000000</td>\n",
       "      <td>-0.080653</td>\n",
       "      <td>-0.024199</td>\n",
       "      <td>-0.094707</td>\n",
       "      <td>0.584848</td>\n",
       "      <td>-0.100239</td>\n",
       "      <td>0.025197</td>\n",
       "    </tr>\n",
       "    <tr>\n",
       "      <th>Income</th>\n",
       "      <td>0.151951</td>\n",
       "      <td>-0.080653</td>\n",
       "      <td>1.000000</td>\n",
       "      <td>0.058995</td>\n",
       "      <td>-0.007877</td>\n",
       "      <td>-0.056698</td>\n",
       "      <td>-0.004670</td>\n",
       "      <td>-0.056855</td>\n",
       "    </tr>\n",
       "    <tr>\n",
       "      <th>Advertising</th>\n",
       "      <td>0.269507</td>\n",
       "      <td>-0.024199</td>\n",
       "      <td>0.058995</td>\n",
       "      <td>1.000000</td>\n",
       "      <td>0.265652</td>\n",
       "      <td>0.044537</td>\n",
       "      <td>-0.004557</td>\n",
       "      <td>-0.033594</td>\n",
       "    </tr>\n",
       "    <tr>\n",
       "      <th>Population</th>\n",
       "      <td>0.050471</td>\n",
       "      <td>-0.094707</td>\n",
       "      <td>-0.007877</td>\n",
       "      <td>0.265652</td>\n",
       "      <td>1.000000</td>\n",
       "      <td>-0.012144</td>\n",
       "      <td>-0.042663</td>\n",
       "      <td>-0.106378</td>\n",
       "    </tr>\n",
       "    <tr>\n",
       "      <th>Price</th>\n",
       "      <td>-0.444951</td>\n",
       "      <td>0.584848</td>\n",
       "      <td>-0.056698</td>\n",
       "      <td>0.044537</td>\n",
       "      <td>-0.012144</td>\n",
       "      <td>1.000000</td>\n",
       "      <td>-0.102177</td>\n",
       "      <td>0.011747</td>\n",
       "    </tr>\n",
       "    <tr>\n",
       "      <th>Age</th>\n",
       "      <td>-0.231815</td>\n",
       "      <td>-0.100239</td>\n",
       "      <td>-0.004670</td>\n",
       "      <td>-0.004557</td>\n",
       "      <td>-0.042663</td>\n",
       "      <td>-0.102177</td>\n",
       "      <td>1.000000</td>\n",
       "      <td>0.006488</td>\n",
       "    </tr>\n",
       "    <tr>\n",
       "      <th>Education</th>\n",
       "      <td>-0.051955</td>\n",
       "      <td>0.025197</td>\n",
       "      <td>-0.056855</td>\n",
       "      <td>-0.033594</td>\n",
       "      <td>-0.106378</td>\n",
       "      <td>0.011747</td>\n",
       "      <td>0.006488</td>\n",
       "      <td>1.000000</td>\n",
       "    </tr>\n",
       "  </tbody>\n",
       "</table>\n",
       "</div>"
      ],
      "text/plain": [
       "                Sales  CompPrice    Income  Advertising  Population     Price  \\\n",
       "Sales        1.000000   0.064079  0.151951     0.269507    0.050471 -0.444951   \n",
       "CompPrice    0.064079   1.000000 -0.080653    -0.024199   -0.094707  0.584848   \n",
       "Income       0.151951  -0.080653  1.000000     0.058995   -0.007877 -0.056698   \n",
       "Advertising  0.269507  -0.024199  0.058995     1.000000    0.265652  0.044537   \n",
       "Population   0.050471  -0.094707 -0.007877     0.265652    1.000000 -0.012144   \n",
       "Price       -0.444951   0.584848 -0.056698     0.044537   -0.012144  1.000000   \n",
       "Age         -0.231815  -0.100239 -0.004670    -0.004557   -0.042663 -0.102177   \n",
       "Education   -0.051955   0.025197 -0.056855    -0.033594   -0.106378  0.011747   \n",
       "\n",
       "                  Age  Education  \n",
       "Sales       -0.231815  -0.051955  \n",
       "CompPrice   -0.100239   0.025197  \n",
       "Income      -0.004670  -0.056855  \n",
       "Advertising -0.004557  -0.033594  \n",
       "Population  -0.042663  -0.106378  \n",
       "Price       -0.102177   0.011747  \n",
       "Age          1.000000   0.006488  \n",
       "Education    0.006488   1.000000  "
      ]
     },
     "execution_count": 5,
     "metadata": {},
     "output_type": "execute_result"
    }
   ],
   "source": [
    "variables = ['Sales', 'CompPrice', 'Income', 'Advertising', 'Population', 'Price', 'Age', 'Education']\n",
    "\n",
    "corr_matrix = carseats[variables].corr(method = 'pearson')\n",
    "corr_matrix"
   ]
  },
  {
   "cell_type": "markdown",
   "metadata": {},
   "source": [
    "3.&nbsp; 종속변수를 Sales, 독립변수를 CompPrice, Income, Advertising, Population, Price, Age, Education으로 설정하고 후진제거법을 활용하여 회귀분석을 실시하고, 추정된 회귀식을 작성하시오."
   ]
  },
  {
   "cell_type": "code",
   "execution_count": 8,
   "metadata": {},
   "outputs": [
    {
     "name": "stdout",
     "output_type": "stream",
     "text": [
      "제거 변수: Population, p-value: 0.8571\n",
      "제거 변수: Education, p-value: 0.2873\n",
      "                            OLS Regression Results                            \n",
      "==============================================================================\n",
      "Dep. Variable:                  Sales   R-squared:                       0.540\n",
      "Model:                            OLS   Adj. R-squared:                  0.534\n",
      "Method:                 Least Squares   F-statistic:                     92.62\n",
      "Date:                Mon, 31 Mar 2025   Prob (F-statistic):           2.70e-64\n",
      "Time:                        14:52:32   Log-Likelihood:                -826.92\n",
      "No. Observations:                 400   AIC:                             1666.\n",
      "Df Residuals:                     394   BIC:                             1690.\n",
      "Df Model:                           5                                         \n",
      "Covariance Type:            nonrobust                                         \n",
      "===============================================================================\n",
      "                  coef    std err          t      P>|t|      [0.025      0.975]\n",
      "-------------------------------------------------------------------------------\n",
      "const           7.1092      0.944      7.531      0.000       5.253       8.965\n",
      "CompPrice       0.0939      0.008     12.051      0.000       0.079       0.109\n",
      "Income          0.0131      0.003      3.779      0.000       0.006       0.020\n",
      "Advertising     0.1306      0.015      8.963      0.000       0.102       0.159\n",
      "Price          -0.0925      0.005    -18.347      0.000      -0.102      -0.083\n",
      "Age            -0.0450      0.006     -7.503      0.000      -0.057      -0.033\n",
      "==============================================================================\n",
      "Omnibus:                        9.073   Durbin-Watson:                   1.963\n",
      "Prob(Omnibus):                  0.011   Jarque-Bera (JB):                8.154\n",
      "Skew:                           0.288   Prob(JB):                       0.0170\n",
      "Kurtosis:                       2.602   Cond. No.                     1.89e+03\n",
      "==============================================================================\n",
      "\n",
      "Notes:\n",
      "[1] Standard Errors assume that the covariance matrix of the errors is correctly specified.\n",
      "[2] The condition number is large, 1.89e+03. This might indicate that there are\n",
      "strong multicollinearity or other numerical problems.\n"
     ]
    }
   ],
   "source": [
    "X = carseats[['CompPrice', 'Income', 'Advertising', 'Population', 'Price', 'Age', 'Education']]\n",
    "y = carseats['Sales']\n",
    "X = sm.add_constant(X)\n",
    "\n",
    "model = sm.OLS(y, X).fit()\n",
    "\n",
    "def backward_elimination(model, X, y, significance_level = 0.05):\n",
    "    while True:\n",
    "        p_values = model.pvalues\n",
    "        max_p_value = p_values.max()\n",
    "        if max_p_value > significance_level:\n",
    "            excluded_feature = p_values.idxmax()\n",
    "            print(f'제거 변수: {excluded_feature}, p-value: {max_p_value:.4f}')\n",
    "            X = X.drop(columns = [excluded_feature])\n",
    "            model = sm.OLS(y, X).fit()\n",
    "        else:\n",
    "            break\n",
    "    return model\n",
    "\n",
    "final_model = backward_elimination(model, X, y)\n",
    "print(final_model.summary())"
   ]
  },
  {
   "cell_type": "markdown",
   "metadata": {},
   "source": [
    "4.&nbsp; 앞서 생성한 회귀모델에 대해 해석하시오."
   ]
  },
  {
   "cell_type": "markdown",
   "metadata": {},
   "source": [
    "Sales = 7.1092 + 0.0939 * CompPrice + 0.0131 * Income + 0.1306 * Advertising - 0.0925 * Price - 0.0450 * Age"
   ]
  },
  {
   "cell_type": "markdown",
   "metadata": {},
   "source": []
  }
 ],
 "metadata": {
  "kernelspec": {
   "display_name": ".adp_hands_on",
   "language": "python",
   "name": "python3"
  },
  "language_info": {
   "codemirror_mode": {
    "name": "ipython",
    "version": 3
   },
   "file_extension": ".py",
   "mimetype": "text/x-python",
   "name": "python",
   "nbconvert_exporter": "python",
   "pygments_lexer": "ipython3",
   "version": "3.10.12"
  }
 },
 "nbformat": 4,
 "nbformat_minor": 2
}
