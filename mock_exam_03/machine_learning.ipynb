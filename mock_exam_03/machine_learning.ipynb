{
 "cells": [
  {
   "cell_type": "markdown",
   "metadata": {},
   "source": [
    "# 머신러닝"
   ]
  },
  {
   "cell_type": "code",
   "execution_count": 1,
   "metadata": {},
   "outputs": [],
   "source": [
    "import pandas as pd\n",
    "import numpy as np\n",
    "import seaborn as sns\n",
    "import matplotlib.pyplot as plt\n",
    "%matplotlib inline\n",
    "from matplotlib import font_manager, rc\n",
    "from imblearn.over_sampling import RandomOverSampler, SMOTE\n",
    "import time\n",
    "from sklearn.model_selection import train_test_split\n",
    "from sklearn.ensemble import RandomForestClassifier\n",
    "from sklearn.metrics import classification_report"
   ]
  },
  {
   "cell_type": "code",
   "execution_count": 2,
   "metadata": {},
   "outputs": [
    {
     "data": {
      "text/html": [
       "<div>\n",
       "<style scoped>\n",
       "    .dataframe tbody tr th:only-of-type {\n",
       "        vertical-align: middle;\n",
       "    }\n",
       "\n",
       "    .dataframe tbody tr th {\n",
       "        vertical-align: top;\n",
       "    }\n",
       "\n",
       "    .dataframe thead th {\n",
       "        text-align: right;\n",
       "    }\n",
       "</style>\n",
       "<table border=\"1\" class=\"dataframe\">\n",
       "  <thead>\n",
       "    <tr style=\"text-align: right;\">\n",
       "      <th></th>\n",
       "      <th>is_canceled</th>\n",
       "      <th>deposit_type</th>\n",
       "      <th>lead_time</th>\n",
       "      <th>stays_in_weekend_nights</th>\n",
       "      <th>stays_in_week_nights</th>\n",
       "      <th>is_repeated_guest</th>\n",
       "      <th>previous_cancellations</th>\n",
       "      <th>previous_bookings_not_canceled</th>\n",
       "      <th>booking_changes</th>\n",
       "      <th>days_in_waiting_list</th>\n",
       "      <th>adr</th>\n",
       "    </tr>\n",
       "  </thead>\n",
       "  <tbody>\n",
       "    <tr>\n",
       "      <th>0</th>\n",
       "      <td>0</td>\n",
       "      <td>No Deposit</td>\n",
       "      <td>105.0</td>\n",
       "      <td>2</td>\n",
       "      <td>5</td>\n",
       "      <td>NaN</td>\n",
       "      <td>0</td>\n",
       "      <td>0</td>\n",
       "      <td>1</td>\n",
       "      <td>0</td>\n",
       "      <td>131.50</td>\n",
       "    </tr>\n",
       "    <tr>\n",
       "      <th>1</th>\n",
       "      <td>0</td>\n",
       "      <td>No Deposit</td>\n",
       "      <td>303.0</td>\n",
       "      <td>2</td>\n",
       "      <td>2</td>\n",
       "      <td>NaN</td>\n",
       "      <td>0</td>\n",
       "      <td>0</td>\n",
       "      <td>0</td>\n",
       "      <td>0</td>\n",
       "      <td>73.95</td>\n",
       "    </tr>\n",
       "    <tr>\n",
       "      <th>2</th>\n",
       "      <td>0</td>\n",
       "      <td>No Deposit</td>\n",
       "      <td>33.0</td>\n",
       "      <td>2</td>\n",
       "      <td>3</td>\n",
       "      <td>0.0</td>\n",
       "      <td>0</td>\n",
       "      <td>0</td>\n",
       "      <td>0</td>\n",
       "      <td>0</td>\n",
       "      <td>NaN</td>\n",
       "    </tr>\n",
       "    <tr>\n",
       "      <th>3</th>\n",
       "      <td>0</td>\n",
       "      <td>No Deposit</td>\n",
       "      <td>48.0</td>\n",
       "      <td>0</td>\n",
       "      <td>1</td>\n",
       "      <td>0.0</td>\n",
       "      <td>0</td>\n",
       "      <td>0</td>\n",
       "      <td>1</td>\n",
       "      <td>0</td>\n",
       "      <td>80.30</td>\n",
       "    </tr>\n",
       "    <tr>\n",
       "      <th>4</th>\n",
       "      <td>0</td>\n",
       "      <td>No Deposit</td>\n",
       "      <td>216.0</td>\n",
       "      <td>4</td>\n",
       "      <td>7</td>\n",
       "      <td>0.0</td>\n",
       "      <td>0</td>\n",
       "      <td>0</td>\n",
       "      <td>2</td>\n",
       "      <td>0</td>\n",
       "      <td>60.90</td>\n",
       "    </tr>\n",
       "    <tr>\n",
       "      <th>...</th>\n",
       "      <td>...</td>\n",
       "      <td>...</td>\n",
       "      <td>...</td>\n",
       "      <td>...</td>\n",
       "      <td>...</td>\n",
       "      <td>...</td>\n",
       "      <td>...</td>\n",
       "      <td>...</td>\n",
       "      <td>...</td>\n",
       "      <td>...</td>\n",
       "      <td>...</td>\n",
       "    </tr>\n",
       "    <tr>\n",
       "      <th>19995</th>\n",
       "      <td>1</td>\n",
       "      <td>Non Refund</td>\n",
       "      <td>89.0</td>\n",
       "      <td>2</td>\n",
       "      <td>2</td>\n",
       "      <td>0.0</td>\n",
       "      <td>0</td>\n",
       "      <td>0</td>\n",
       "      <td>0</td>\n",
       "      <td>0</td>\n",
       "      <td>62.00</td>\n",
       "    </tr>\n",
       "    <tr>\n",
       "      <th>19996</th>\n",
       "      <td>1</td>\n",
       "      <td>Non Refund</td>\n",
       "      <td>101.0</td>\n",
       "      <td>0</td>\n",
       "      <td>3</td>\n",
       "      <td>0.0</td>\n",
       "      <td>0</td>\n",
       "      <td>0</td>\n",
       "      <td>0</td>\n",
       "      <td>0</td>\n",
       "      <td>130.00</td>\n",
       "    </tr>\n",
       "    <tr>\n",
       "      <th>19997</th>\n",
       "      <td>1</td>\n",
       "      <td>Non Refund</td>\n",
       "      <td>277.0</td>\n",
       "      <td>1</td>\n",
       "      <td>2</td>\n",
       "      <td>0.0</td>\n",
       "      <td>0</td>\n",
       "      <td>0</td>\n",
       "      <td>0</td>\n",
       "      <td>0</td>\n",
       "      <td>100.00</td>\n",
       "    </tr>\n",
       "    <tr>\n",
       "      <th>19998</th>\n",
       "      <td>1</td>\n",
       "      <td>No Deposit</td>\n",
       "      <td>0.0</td>\n",
       "      <td>0</td>\n",
       "      <td>1</td>\n",
       "      <td>0.0</td>\n",
       "      <td>0</td>\n",
       "      <td>0</td>\n",
       "      <td>0</td>\n",
       "      <td>0</td>\n",
       "      <td>209.00</td>\n",
       "    </tr>\n",
       "    <tr>\n",
       "      <th>19999</th>\n",
       "      <td>1</td>\n",
       "      <td>Non Refund</td>\n",
       "      <td>40.0</td>\n",
       "      <td>0</td>\n",
       "      <td>2</td>\n",
       "      <td>0.0</td>\n",
       "      <td>0</td>\n",
       "      <td>0</td>\n",
       "      <td>0</td>\n",
       "      <td>0</td>\n",
       "      <td>130.00</td>\n",
       "    </tr>\n",
       "  </tbody>\n",
       "</table>\n",
       "<p>20000 rows × 11 columns</p>\n",
       "</div>"
      ],
      "text/plain": [
       "       is_canceled deposit_type  lead_time  stays_in_weekend_nights  \\\n",
       "0                0   No Deposit      105.0                        2   \n",
       "1                0   No Deposit      303.0                        2   \n",
       "2                0   No Deposit       33.0                        2   \n",
       "3                0   No Deposit       48.0                        0   \n",
       "4                0   No Deposit      216.0                        4   \n",
       "...            ...          ...        ...                      ...   \n",
       "19995            1   Non Refund       89.0                        2   \n",
       "19996            1   Non Refund      101.0                        0   \n",
       "19997            1   Non Refund      277.0                        1   \n",
       "19998            1   No Deposit        0.0                        0   \n",
       "19999            1   Non Refund       40.0                        0   \n",
       "\n",
       "       stays_in_week_nights  is_repeated_guest  previous_cancellations  \\\n",
       "0                         5                NaN                       0   \n",
       "1                         2                NaN                       0   \n",
       "2                         3                0.0                       0   \n",
       "3                         1                0.0                       0   \n",
       "4                         7                0.0                       0   \n",
       "...                     ...                ...                     ...   \n",
       "19995                     2                0.0                       0   \n",
       "19996                     3                0.0                       0   \n",
       "19997                     2                0.0                       0   \n",
       "19998                     1                0.0                       0   \n",
       "19999                     2                0.0                       0   \n",
       "\n",
       "       previous_bookings_not_canceled  booking_changes  days_in_waiting_list  \\\n",
       "0                                   0                1                     0   \n",
       "1                                   0                0                     0   \n",
       "2                                   0                0                     0   \n",
       "3                                   0                1                     0   \n",
       "4                                   0                2                     0   \n",
       "...                               ...              ...                   ...   \n",
       "19995                               0                0                     0   \n",
       "19996                               0                0                     0   \n",
       "19997                               0                0                     0   \n",
       "19998                               0                0                     0   \n",
       "19999                               0                0                     0   \n",
       "\n",
       "          adr  \n",
       "0      131.50  \n",
       "1       73.95  \n",
       "2         NaN  \n",
       "3       80.30  \n",
       "4       60.90  \n",
       "...       ...  \n",
       "19995   62.00  \n",
       "19996  130.00  \n",
       "19997  100.00  \n",
       "19998  209.00  \n",
       "19999  130.00  \n",
       "\n",
       "[20000 rows x 11 columns]"
      ]
     },
     "execution_count": 2,
     "metadata": {},
     "output_type": "execute_result"
    }
   ],
   "source": [
    "data_path = '/hdd/data/adp_data/hotel_bookings.csv'\n",
    "hotel = pd.read_csv(data_path)\n",
    "hotel"
   ]
  },
  {
   "cell_type": "markdown",
   "metadata": {},
   "source": [
    "(1) 데이터를 탐색하고 탐색 결과를 제시하시오."
   ]
  },
  {
   "cell_type": "code",
   "execution_count": 3,
   "metadata": {},
   "outputs": [
    {
     "data": {
      "text/plain": [
       "is_canceled                          0\n",
       "deposit_type                         0\n",
       "lead_time                            5\n",
       "stays_in_weekend_nights              0\n",
       "stays_in_week_nights                 0\n",
       "is_repeated_guest                  358\n",
       "previous_cancellations               0\n",
       "previous_bookings_not_canceled       0\n",
       "booking_changes                      0\n",
       "days_in_waiting_list                 0\n",
       "adr                               1063\n",
       "dtype: int64"
      ]
     },
     "execution_count": 3,
     "metadata": {},
     "output_type": "execute_result"
    }
   ],
   "source": [
    "hotel.isna().sum()"
   ]
  },
  {
   "cell_type": "code",
   "execution_count": 4,
   "metadata": {},
   "outputs": [
    {
     "name": "stdout",
     "output_type": "stream",
     "text": [
      "<class 'pandas.core.frame.DataFrame'>\n",
      "RangeIndex: 20000 entries, 0 to 19999\n",
      "Data columns (total 11 columns):\n",
      " #   Column                          Non-Null Count  Dtype  \n",
      "---  ------                          --------------  -----  \n",
      " 0   is_canceled                     20000 non-null  int64  \n",
      " 1   deposit_type                    20000 non-null  object \n",
      " 2   lead_time                       19995 non-null  float64\n",
      " 3   stays_in_weekend_nights         20000 non-null  int64  \n",
      " 4   stays_in_week_nights            20000 non-null  int64  \n",
      " 5   is_repeated_guest               19642 non-null  float64\n",
      " 6   previous_cancellations          20000 non-null  int64  \n",
      " 7   previous_bookings_not_canceled  20000 non-null  int64  \n",
      " 8   booking_changes                 20000 non-null  int64  \n",
      " 9   days_in_waiting_list            20000 non-null  int64  \n",
      " 10  adr                             18937 non-null  float64\n",
      "dtypes: float64(3), int64(7), object(1)\n",
      "memory usage: 1.7+ MB\n"
     ]
    }
   ],
   "source": [
    "hotel.info()"
   ]
  },
  {
   "cell_type": "code",
   "execution_count": 5,
   "metadata": {},
   "outputs": [
    {
     "data": {
      "text/html": [
       "<div>\n",
       "<style scoped>\n",
       "    .dataframe tbody tr th:only-of-type {\n",
       "        vertical-align: middle;\n",
       "    }\n",
       "\n",
       "    .dataframe tbody tr th {\n",
       "        vertical-align: top;\n",
       "    }\n",
       "\n",
       "    .dataframe thead th {\n",
       "        text-align: right;\n",
       "    }\n",
       "</style>\n",
       "<table border=\"1\" class=\"dataframe\">\n",
       "  <thead>\n",
       "    <tr style=\"text-align: right;\">\n",
       "      <th></th>\n",
       "      <th>is_canceled</th>\n",
       "      <th>lead_time</th>\n",
       "      <th>stays_in_weekend_nights</th>\n",
       "      <th>stays_in_week_nights</th>\n",
       "      <th>is_repeated_guest</th>\n",
       "      <th>previous_cancellations</th>\n",
       "      <th>previous_bookings_not_canceled</th>\n",
       "      <th>booking_changes</th>\n",
       "      <th>days_in_waiting_list</th>\n",
       "      <th>adr</th>\n",
       "    </tr>\n",
       "  </thead>\n",
       "  <tbody>\n",
       "    <tr>\n",
       "      <th>count</th>\n",
       "      <td>20000.00000</td>\n",
       "      <td>19995.000000</td>\n",
       "      <td>20000.000000</td>\n",
       "      <td>20000.000000</td>\n",
       "      <td>19642.000000</td>\n",
       "      <td>20000.000000</td>\n",
       "      <td>20000.000000</td>\n",
       "      <td>20000.000000</td>\n",
       "      <td>20000.000000</td>\n",
       "      <td>18937.000000</td>\n",
       "    </tr>\n",
       "    <tr>\n",
       "      <th>mean</th>\n",
       "      <td>0.12000</td>\n",
       "      <td>85.978345</td>\n",
       "      <td>0.892550</td>\n",
       "      <td>2.380400</td>\n",
       "      <td>0.038133</td>\n",
       "      <td>0.032900</td>\n",
       "      <td>0.169050</td>\n",
       "      <td>0.269400</td>\n",
       "      <td>1.983950</td>\n",
       "      <td>101.410239</td>\n",
       "    </tr>\n",
       "    <tr>\n",
       "      <th>std</th>\n",
       "      <td>0.32497</td>\n",
       "      <td>96.427240</td>\n",
       "      <td>0.952077</td>\n",
       "      <td>1.777345</td>\n",
       "      <td>0.191521</td>\n",
       "      <td>0.455552</td>\n",
       "      <td>1.502426</td>\n",
       "      <td>0.687566</td>\n",
       "      <td>15.927212</td>\n",
       "      <td>49.245097</td>\n",
       "    </tr>\n",
       "    <tr>\n",
       "      <th>min</th>\n",
       "      <td>0.00000</td>\n",
       "      <td>0.000000</td>\n",
       "      <td>0.000000</td>\n",
       "      <td>0.000000</td>\n",
       "      <td>0.000000</td>\n",
       "      <td>0.000000</td>\n",
       "      <td>0.000000</td>\n",
       "      <td>0.000000</td>\n",
       "      <td>0.000000</td>\n",
       "      <td>-6.380000</td>\n",
       "    </tr>\n",
       "    <tr>\n",
       "      <th>25%</th>\n",
       "      <td>0.00000</td>\n",
       "      <td>11.000000</td>\n",
       "      <td>0.000000</td>\n",
       "      <td>1.000000</td>\n",
       "      <td>0.000000</td>\n",
       "      <td>0.000000</td>\n",
       "      <td>0.000000</td>\n",
       "      <td>0.000000</td>\n",
       "      <td>0.000000</td>\n",
       "      <td>68.800000</td>\n",
       "    </tr>\n",
       "    <tr>\n",
       "      <th>50%</th>\n",
       "      <td>0.00000</td>\n",
       "      <td>51.000000</td>\n",
       "      <td>1.000000</td>\n",
       "      <td>2.000000</td>\n",
       "      <td>0.000000</td>\n",
       "      <td>0.000000</td>\n",
       "      <td>0.000000</td>\n",
       "      <td>0.000000</td>\n",
       "      <td>0.000000</td>\n",
       "      <td>94.500000</td>\n",
       "    </tr>\n",
       "    <tr>\n",
       "      <th>75%</th>\n",
       "      <td>0.00000</td>\n",
       "      <td>132.000000</td>\n",
       "      <td>2.000000</td>\n",
       "      <td>3.000000</td>\n",
       "      <td>0.000000</td>\n",
       "      <td>0.000000</td>\n",
       "      <td>0.000000</td>\n",
       "      <td>0.000000</td>\n",
       "      <td>0.000000</td>\n",
       "      <td>126.000000</td>\n",
       "    </tr>\n",
       "    <tr>\n",
       "      <th>max</th>\n",
       "      <td>1.00000</td>\n",
       "      <td>629.000000</td>\n",
       "      <td>13.000000</td>\n",
       "      <td>30.000000</td>\n",
       "      <td>1.000000</td>\n",
       "      <td>26.000000</td>\n",
       "      <td>66.000000</td>\n",
       "      <td>17.000000</td>\n",
       "      <td>379.000000</td>\n",
       "      <td>451.500000</td>\n",
       "    </tr>\n",
       "  </tbody>\n",
       "</table>\n",
       "</div>"
      ],
      "text/plain": [
       "       is_canceled     lead_time  stays_in_weekend_nights  \\\n",
       "count  20000.00000  19995.000000             20000.000000   \n",
       "mean       0.12000     85.978345                 0.892550   \n",
       "std        0.32497     96.427240                 0.952077   \n",
       "min        0.00000      0.000000                 0.000000   \n",
       "25%        0.00000     11.000000                 0.000000   \n",
       "50%        0.00000     51.000000                 1.000000   \n",
       "75%        0.00000    132.000000                 2.000000   \n",
       "max        1.00000    629.000000                13.000000   \n",
       "\n",
       "       stays_in_week_nights  is_repeated_guest  previous_cancellations  \\\n",
       "count          20000.000000       19642.000000            20000.000000   \n",
       "mean               2.380400           0.038133                0.032900   \n",
       "std                1.777345           0.191521                0.455552   \n",
       "min                0.000000           0.000000                0.000000   \n",
       "25%                1.000000           0.000000                0.000000   \n",
       "50%                2.000000           0.000000                0.000000   \n",
       "75%                3.000000           0.000000                0.000000   \n",
       "max               30.000000           1.000000               26.000000   \n",
       "\n",
       "       previous_bookings_not_canceled  booking_changes  days_in_waiting_list  \\\n",
       "count                    20000.000000     20000.000000          20000.000000   \n",
       "mean                         0.169050         0.269400              1.983950   \n",
       "std                          1.502426         0.687566             15.927212   \n",
       "min                          0.000000         0.000000              0.000000   \n",
       "25%                          0.000000         0.000000              0.000000   \n",
       "50%                          0.000000         0.000000              0.000000   \n",
       "75%                          0.000000         0.000000              0.000000   \n",
       "max                         66.000000        17.000000            379.000000   \n",
       "\n",
       "                adr  \n",
       "count  18937.000000  \n",
       "mean     101.410239  \n",
       "std       49.245097  \n",
       "min       -6.380000  \n",
       "25%       68.800000  \n",
       "50%       94.500000  \n",
       "75%      126.000000  \n",
       "max      451.500000  "
      ]
     },
     "execution_count": 5,
     "metadata": {},
     "output_type": "execute_result"
    }
   ],
   "source": [
    "hotel.describe()"
   ]
  },
  {
   "cell_type": "code",
   "execution_count": 6,
   "metadata": {},
   "outputs": [
    {
     "data": {
      "text/plain": [
       "deposit_type\n",
       "No Deposit    19138\n",
       "Non Refund      834\n",
       "Refundable       28\n",
       "Name: count, dtype: int64"
      ]
     },
     "execution_count": 6,
     "metadata": {},
     "output_type": "execute_result"
    }
   ],
   "source": [
    "hotel['deposit_type'].value_counts(dropna = False)"
   ]
  },
  {
   "cell_type": "code",
   "execution_count": 7,
   "metadata": {},
   "outputs": [
    {
     "data": {
      "text/plain": [
       "deposit_type\n",
       "No Deposit    101.965190\n",
       "Non Refund     89.689476\n",
       "Refundable     67.456154\n",
       "Name: adr, dtype: float64"
      ]
     },
     "execution_count": 7,
     "metadata": {},
     "output_type": "execute_result"
    }
   ],
   "source": [
    "hotel.groupby(hotel['deposit_type']).mean()['adr']"
   ]
  },
  {
   "cell_type": "markdown",
   "metadata": {},
   "source": [
    "(2) 결측치를 탐색하고 대체 방법 및 근거를 제시하시오."
   ]
  },
  {
   "cell_type": "code",
   "execution_count": 8,
   "metadata": {},
   "outputs": [
    {
     "name": "stdout",
     "output_type": "stream",
     "text": [
      "lead_time 결측치 비율:  0.02 %\n",
      "is_repeated_guest 결측치 비율:  1.79 %\n",
      "adr 결측치 비율:  5.32 %\n"
     ]
    }
   ],
   "source": [
    "na_cols = ['lead_time', 'is_repeated_guest', 'adr']\n",
    "\n",
    "for na_col in na_cols:\n",
    "    temp = round(\n",
    "        hotel[na_col].isna().sum() / len(hotel) * 100,\n",
    "        2\n",
    "    )\n",
    "    print(f'{na_col} 결측치 비율: ', temp, '%')"
   ]
  },
  {
   "cell_type": "markdown",
   "metadata": {},
   "source": [
    "- lead_time은 결측치가 1% 미만이므로 삭제 <br>\n",
    "- is_repeated_guest는 빈값으로 대체 <br>\n",
    "- adr은 deposit_type별 평균으로 대체"
   ]
  },
  {
   "cell_type": "code",
   "execution_count": 9,
   "metadata": {},
   "outputs": [
    {
     "data": {
      "text/plain": [
       "is_canceled                       0\n",
       "deposit_type                      0\n",
       "lead_time                         0\n",
       "stays_in_weekend_nights           0\n",
       "stays_in_week_nights              0\n",
       "is_repeated_guest                 0\n",
       "previous_cancellations            0\n",
       "previous_bookings_not_canceled    0\n",
       "booking_changes                   0\n",
       "days_in_waiting_list              0\n",
       "adr                               0\n",
       "dtype: int64"
      ]
     },
     "execution_count": 9,
     "metadata": {},
     "output_type": "execute_result"
    }
   ],
   "source": [
    "hotel_nonnull = hotel.copy()\n",
    "\n",
    "hotel_nonnull.dropna(subset = ['lead_time'], axis = 0, inplace = True)\n",
    "\n",
    "hotel_nonnull['is_repeated_guest'] = hotel_nonnull['is_repeated_guest'].fillna(\n",
    "    hotel_nonnull['is_repeated_guest'].value_counts().idxmax()\n",
    ")\n",
    "\n",
    "hotel_nonnull['adr'] = hotel_nonnull.groupby('deposit_type')['adr'].transform(\n",
    "    lambda x: x.fillna(x.mean())\n",
    ")\n",
    "\n",
    "hotel_nonnull.isna().sum()"
   ]
  },
  {
   "cell_type": "markdown",
   "metadata": {},
   "source": [
    "(3) 데이터 질을 항상시킬 수 있는 방법을 제안하시오."
   ]
  },
  {
   "cell_type": "markdown",
   "metadata": {},
   "source": [
    "- lead_time 변수의 이상치 보정\n",
    "- is_repeated_guest 변수에서 수가 적은 클래스의 자료를 더 수집하여 자료의 불균형 해결"
   ]
  },
  {
   "cell_type": "markdown",
   "metadata": {},
   "source": [
    "(4) 데이터 불균형을 시각화하여 식별하고 불균형 판단근거를 작성하시오."
   ]
  },
  {
   "cell_type": "code",
   "execution_count": 10,
   "metadata": {},
   "outputs": [
    {
     "data": {
      "image/png": "[encoded data removed]",
      "text/plain": [
       "<Figure size 640x480 with 1 Axes>"
      ]
     },
     "metadata": {},
     "output_type": "display_data"
    },
    {
     "name": "stdout",
     "output_type": "stream",
     "text": [
      "0 비율: 88.0%\n",
      "1 비율: 12.0%\n"
     ]
    }
   ],
   "source": [
    "font_path = '/usr/share/fonts/truetype/nanum/NanumBarunGothic.ttf'\n",
    "\n",
    "font = font_manager.FontProperties(fname = font_path).get_name()\n",
    "rc('font', family = font)\n",
    "\n",
    "sns.countplot(x = 'is_canceled', data = hotel_nonnull)\n",
    "plt.title('데이터 불균형 시각화', fontsize = 14)\n",
    "plt.show()\n",
    "\n",
    "ratio0 = round(\n",
    "    len(hotel_nonnull[hotel_nonnull['is_canceled'] == 0]) / len(hotel_nonnull) * 100,\n",
    "    2\n",
    ")\n",
    "ratio1 = round(\n",
    "    len(hotel_nonnull[hotel_nonnull['is_canceled'] == 1]) / len(hotel_nonnull) * 100,\n",
    "    2\n",
    ")\n",
    "print('0 비율: {}%'.format(ratio0))\n",
    "print('1 비율: {}%'.format(ratio1))"
   ]
  },
  {
   "cell_type": "markdown",
   "metadata": {},
   "source": [
    "(5) 오버 샘플링 기법을 설명하고 비교한 뒤 2개 기법을 선정하고 근거를 제시하시오."
   ]
  },
  {
   "cell_type": "markdown",
   "metadata": {},
   "source": [
    "random oversampling, SMOTE <br>\n",
    "언더 샘플링은 데이터 손실로 예측성능이 저하될 수 있으므로 오버샘플링 사용."
   ]
  },
  {
   "cell_type": "markdown",
   "metadata": {},
   "source": [
    "(6) 기법을 선정한 이유를 작성하고, 원데이터를 포함해 3개의 데이터 세트를 구성하시오."
   ]
  },
  {
   "cell_type": "code",
   "execution_count": 11,
   "metadata": {},
   "outputs": [
    {
     "name": "stdout",
     "output_type": "stream",
     "text": [
      "time:  0.0363774299621582\n"
     ]
    }
   ],
   "source": [
    "hotel_nonnull = pd.get_dummies(hotel_nonnull)\n",
    "\n",
    "X = hotel_nonnull[hotel_nonnull.columns.difference(['is_canceled'])]\n",
    "y = hotel_nonnull['is_canceled']\n",
    "\n",
    "start = time.time()\n",
    "\n",
    "ros = RandomOverSampler(random_state = 526)\n",
    "X_ro, y_ro = ros.fit_resample(X, y)\n",
    "print('time: ', time.time() - start)"
   ]
  },
  {
   "cell_type": "code",
   "execution_count": 12,
   "metadata": {},
   "outputs": [
    {
     "name": "stdout",
     "output_type": "stream",
     "text": [
      "time:  0.03565073013305664\n"
     ]
    }
   ],
   "source": [
    "start = time.time()\n",
    "\n",
    "sm = SMOTE(random_state = 526)\n",
    "X_sm, y_sm = sm.fit_resample(X, y)\n",
    "print('time: ', time.time() - start)"
   ]
  },
  {
   "cell_type": "markdown",
   "metadata": {},
   "source": [
    "SMOTE는 데이터의 과적합을 방지할 수 있으므로 선택."
   ]
  },
  {
   "cell_type": "markdown",
   "metadata": {},
   "source": [
    "(7) 오버 샘플링 데이터와 원데이터를 사용해 정확도 측면 모델 하나와 속도 측면의 모델 하나를 선정하고, 그 이유를 설명하시오."
   ]
  },
  {
   "cell_type": "code",
   "execution_count": 13,
   "metadata": {},
   "outputs": [
    {
     "name": "stdout",
     "output_type": "stream",
     "text": [
      "train 정확도:  0.9342335583895974\n",
      "              precision    recall  f1-score   support\n",
      "\n",
      "           0       0.92      1.00      0.96      3519\n",
      "           1       0.96      0.37      0.54       480\n",
      "\n",
      "    accuracy                           0.92      3999\n",
      "   macro avg       0.94      0.69      0.75      3999\n",
      "weighted avg       0.93      0.92      0.91      3999\n",
      "\n",
      "time:  1.7060563564300537\n"
     ]
    }
   ],
   "source": [
    "start = time.time()\n",
    "\n",
    "X_train, X_test, y_train, y_test = train_test_split(\n",
    "    X, y, test_size = 0.2, stratify = y, random_state =  526\n",
    ")\n",
    "\n",
    "clf = RandomForestClassifier(n_estimators = 100, min_samples_split = 10, random_state = 526)\n",
    "clf.fit(X_train, y_train)\n",
    "\n",
    "pred = clf.predict(X_test)\n",
    "\n",
    "print('train 정확도: ', clf.score(X_train, y_train))\n",
    "print(classification_report(y_test, pred))\n",
    "print('time: ', time.time() - start)"
   ]
  },
  {
   "cell_type": "code",
   "execution_count": 14,
   "metadata": {},
   "outputs": [
    {
     "name": "stdout",
     "output_type": "stream",
     "text": [
      "train 정확도:  0.9849033816425121\n",
      "              precision    recall  f1-score   support\n",
      "\n",
      "           0       0.98      0.93      0.96      3519\n",
      "           1       0.94      0.98      0.96      3519\n",
      "\n",
      "    accuracy                           0.96      7038\n",
      "   macro avg       0.96      0.96      0.96      7038\n",
      "weighted avg       0.96      0.96      0.96      7038\n",
      "\n",
      "time:  2.688244581222534\n"
     ]
    }
   ],
   "source": [
    "start = time.time()\n",
    "\n",
    "X_ro_train, X_ro_test, y_ro_train, y_ro_test = train_test_split(\n",
    "    X_ro, y_ro, test_size = 0.2, stratify = y_ro, random_state =  526\n",
    ")\n",
    "\n",
    "clf_ro = RandomForestClassifier(n_estimators = 100, min_samples_split = 10, random_state = 526)\n",
    "clf_ro.fit(X_ro_train, y_ro_train)\n",
    "\n",
    "pred = clf_ro.predict(X_ro_test)\n",
    "\n",
    "print('train 정확도: ', clf_ro.score(X_ro_train, y_ro_train))\n",
    "print(classification_report(y_ro_test, pred))\n",
    "print('time: ', time.time() - start)"
   ]
  },
  {
   "cell_type": "code",
   "execution_count": 15,
   "metadata": {},
   "outputs": [
    {
     "name": "stdout",
     "output_type": "stream",
     "text": [
      "train 정확도:  0.9638036373969878\n",
      "              precision    recall  f1-score   support\n",
      "\n",
      "           0       0.87      0.91      0.89      3519\n",
      "           1       0.90      0.87      0.88      3519\n",
      "\n",
      "    accuracy                           0.89      7038\n",
      "   macro avg       0.89      0.89      0.89      7038\n",
      "weighted avg       0.89      0.89      0.89      7038\n",
      "\n",
      "time:  3.1627275943756104\n"
     ]
    }
   ],
   "source": [
    "start = time.time()\n",
    "\n",
    "X_sm_train, X_sm_test, y_sm_train, y_sm_test = train_test_split(\n",
    "    X_sm, y_sm, test_size = 0.2, stratify = y_sm, random_state =  526\n",
    ")\n",
    "\n",
    "clf_sm = RandomForestClassifier(n_estimators = 100, min_samples_split = 10, random_state = 526)\n",
    "clf_sm.fit(X_sm_train, y_sm_train)\n",
    "\n",
    "pred = clf_sm.predict(X_sm_test)\n",
    "\n",
    "print('train 정확도: ', clf_sm.score(X_sm_train, y_sm_train))\n",
    "print(classification_report(y_sm_test, pred))\n",
    "print('time: ', time.time() - start)"
   ]
  },
  {
   "cell_type": "markdown",
   "metadata": {},
   "source": [
    "(8) 원데이터와 오버 샘플링 데이터를 가지고 각각 분류한 결과를 바탕으로, 오버 샘플링이 성능에 미친 영향에 대해 작성하시오."
   ]
  },
  {
   "cell_type": "markdown",
   "metadata": {},
   "source": [
    "random_oversampling이 속도, 정확도 측면에서 좋음."
   ]
  },
  {
   "cell_type": "code",
   "execution_count": null,
   "metadata": {},
   "outputs": [],
   "source": []
  }
 ],
 "metadata": {
  "kernelspec": {
   "display_name": ".adp_hands_on",
   "language": "python",
   "name": "python3"
  },
  "language_info": {
   "codemirror_mode": {
    "name": "ipython",
    "version": 3
   },
   "file_extension": ".py",
   "mimetype": "text/x-python",
   "name": "python",
   "nbconvert_exporter": "python",
   "pygments_lexer": "ipython3",
   "version": "3.10.12"
  }
 },
 "nbformat": 4,
 "nbformat_minor": 2
}
